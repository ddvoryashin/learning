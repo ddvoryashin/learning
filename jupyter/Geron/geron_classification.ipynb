{
 "cells": [
  {
   "cell_type": "markdown",
   "id": "61c7aa69",
   "metadata": {},
   "source": [
    "## MNIST"
   ]
  },
  {
   "cell_type": "code",
   "execution_count": 1,
   "id": "839d2974",
   "metadata": {},
   "outputs": [],
   "source": [
    "from sklearn.datasets import fetch_openml"
   ]
  },
  {
   "cell_type": "code",
   "execution_count": 2,
   "id": "6423036e",
   "metadata": {},
   "outputs": [],
   "source": [
    "mnist = fetch_openml('mnist_784')"
   ]
  },
  {
   "cell_type": "code",
   "execution_count": 7,
   "id": "e55077f8",
   "metadata": {},
   "outputs": [
    {
     "data": {
      "text/plain": [
       "dict_keys(['data', 'target', 'frame', 'categories', 'feature_names', 'target_names', 'DESCR', 'details', 'url'])"
      ]
     },
     "execution_count": 7,
     "metadata": {},
     "output_type": "execute_result"
    }
   ],
   "source": [
    "mnist.keys()"
   ]
  },
  {
   "cell_type": "code",
   "execution_count": 29,
   "id": "4a528719",
   "metadata": {},
   "outputs": [
    {
     "data": {
      "text/plain": [
       "pandas.core.series.Series"
      ]
     },
     "execution_count": 29,
     "metadata": {},
     "output_type": "execute_result"
    }
   ],
   "source": [
    "type(some_digit)"
   ]
  },
  {
   "cell_type": "code",
   "execution_count": 48,
   "id": "f220deb4",
   "metadata": {
    "scrolled": true
   },
   "outputs": [
    {
     "data": {
      "image/png": "[encoded data removed]",
      "text/plain": [
       "<Figure size 432x288 with 1 Axes>"
      ]
     },
     "metadata": {
      "needs_background": "light"
     },
     "output_type": "display_data"
    }
   ],
   "source": [
    "# visualize random digit\n",
    "from matplotlib import pyplot as plt\n",
    "import numpy as np\n",
    "\n",
    "X, y = mnist['data'], mnist['target']\n",
    "y = y.astype(np.uint8)\n",
    "some_digit = mnist['data'].iloc[0]\n",
    "some_digit_image = some_digit.values.reshape((28, 28))\n",
    "\n",
    "plt.imshow(some_digit_image, cmap='binary')\n",
    "plt.axis('off')\n",
    "plt.show()"
   ]
  },
  {
   "cell_type": "code",
   "execution_count": 49,
   "id": "4a4b64f0",
   "metadata": {},
   "outputs": [],
   "source": [
    "# train/test\n",
    "X_train, X_test, y_train, y_test = X[:60000], X[60000:], y[:60000], y[60000:]"
   ]
  },
  {
   "cell_type": "markdown",
   "id": "df2ff360",
   "metadata": {},
   "source": [
    "## Train SGD"
   ]
  },
  {
   "cell_type": "code",
   "execution_count": 50,
   "id": "402f7709",
   "metadata": {},
   "outputs": [
    {
     "name": "stderr",
     "output_type": "stream",
     "text": [
      "/Users/dvorasindmitrij/opt/anaconda3/lib/python3.9/site-packages/sklearn/base.py:450: UserWarning: X does not have valid feature names, but SGDClassifier was fitted with feature names\n",
      "  warnings.warn(\n"
     ]
    },
    {
     "data": {
      "text/plain": [
       "array([ True])"
      ]
     },
     "execution_count": 50,
     "metadata": {},
     "output_type": "execute_result"
    }
   ],
   "source": [
    "# target: 5\n",
    "from sklearn.linear_model import SGDClassifier\n",
    "\n",
    "y_train_5 = (y_train == 5)\n",
    "y_test_5 = (y_test == 5)\n",
    "\n",
    "sgd_clf = SGDClassifier(random_state=42)\n",
    "sgd_clf.fit(X_train, y_train_5)\n",
    "sgd_clf.predict([some_digit])"
   ]
  },
  {
   "cell_type": "markdown",
   "id": "fb42a43c",
   "metadata": {},
   "source": [
    "## Performance measures"
   ]
  },
  {
   "cell_type": "markdown",
   "id": "709a543c",
   "metadata": {},
   "source": [
    "### Accuracy with CV"
   ]
  },
  {
   "cell_type": "code",
   "execution_count": 58,
   "id": "255eb2a8",
   "metadata": {},
   "outputs": [
    {
     "name": "stdout",
     "output_type": "stream",
     "text": [
      "0.95035\n",
      "0.96035\n",
      "0.9604\n"
     ]
    }
   ],
   "source": [
    "# write my own cross-validation and get accuracy\n",
    "from sklearn.model_selection import StratifiedKFold\n",
    "from sklearn.base import clone\n",
    "\n",
    "skfold = StratifiedKFold(n_splits=3)\n",
    "\n",
    "for train_index, test_index in skfold.split(X_train, y_train_5):\n",
    "    clf_clone = clone(sgd_clf)\n",
    "    \n",
    "    X_train_folds = X_train.iloc[train_index]\n",
    "    y_train_folds = y_train_5.iloc[train_index]\n",
    "    \n",
    "    X_test_fold = X_train.iloc[test_index]\n",
    "    y_test_fold = y_train_5.iloc[test_index]\n",
    "    \n",
    "    clf_clone.fit(X_train_folds, y_train_folds)\n",
    "    results = clf_clone.predict(X_test_fold)\n",
    "    \n",
    "    print(sum(results == y_test_fold)/len(results))"
   ]
  },
  {
   "cell_type": "code",
   "execution_count": 65,
   "id": "544cf99d",
   "metadata": {},
   "outputs": [
    {
     "data": {
      "text/plain": [
       "array([0.95035, 0.96035, 0.9604 ])"
      ]
     },
     "execution_count": 65,
     "metadata": {},
     "output_type": "execute_result"
    }
   ],
   "source": [
    "# check accuracy of SGD with cross_val_score\n",
    "from sklearn.model_selection import cross_val_score\n",
    "\n",
    "cross_val_score(sgd_clf, X_train, y_train_5, cv=3)"
   ]
  },
  {
   "cell_type": "code",
   "execution_count": 79,
   "id": "9b9965a5",
   "metadata": {},
   "outputs": [],
   "source": [
    "# create class of always predicting 0, check its accuracy\n",
    "from sklearn.base import BaseEstimator\n",
    "\n",
    "class Never5(BaseEstimator):\n",
    "    \n",
    "    def fit(self, X, y=None):\n",
    "        return self\n",
    "    \n",
    "    def predict(self, X):\n",
    "        return np.zeros((len(X), 1), dtype='bool')"
   ]
  },
  {
   "cell_type": "code",
   "execution_count": 80,
   "id": "e17549c5",
   "metadata": {},
   "outputs": [
    {
     "data": {
      "text/plain": [
       "array([0.91125, 0.90855, 0.90915])"
      ]
     },
     "execution_count": 80,
     "metadata": {},
     "output_type": "execute_result"
    }
   ],
   "source": [
    "never_5 = Never5()\n",
    "cross_val_score(never_5, X_train, y_train_5, cv=3, scoring='accuracy')"
   ]
  },
  {
   "cell_type": "markdown",
   "id": "15afc054",
   "metadata": {},
   "source": [
    "### Confusion Matrix"
   ]
  },
  {
   "cell_type": "code",
   "execution_count": 82,
   "id": "5ab557d9",
   "metadata": {},
   "outputs": [
    {
     "data": {
      "text/plain": [
       "array([[53892,   687],\n",
       "       [ 1891,  3530]])"
      ]
     },
     "execution_count": 82,
     "metadata": {},
     "output_type": "execute_result"
    }
   ],
   "source": [
    "# build confusion matrix with cross_val_predict\n",
    "from sklearn.model_selection import cross_val_predict\n",
    "from sklearn.metrics import confusion_matrix\n",
    "\n",
    "y_pred_5 = cross_val_predict(sgd_clf, X_train, y_train_5, cv=3)\n",
    "conf_matrix = confusion_matrix(y_train_5, y_pred_5)\n",
    "conf_matrix"
   ]
  },
  {
   "cell_type": "markdown",
   "id": "6b785154",
   "metadata": {},
   "source": [
    "### Precision and Recall"
   ]
  },
  {
   "cell_type": "code",
   "execution_count": 93,
   "id": "23d64f25",
   "metadata": {},
   "outputs": [
    {
     "name": "stdout",
     "output_type": "stream",
     "text": [
      "Precision: 0.8370879772350012\n",
      "Recall: 0.06147469610950507\n"
     ]
    }
   ],
   "source": [
    "print('Precision: ' + str(conf_matrix[1][1]/(conf_matrix[1][1] + conf_matrix[0][1])))\n",
    "print('Recall: ' + str(conf_matrix[1][1]/(conf_matrix[1][1] + conf_matrix[0][0])))"
   ]
  },
  {
   "cell_type": "code",
   "execution_count": 94,
   "id": "585df7e0",
   "metadata": {},
   "outputs": [
    {
     "name": "stdout",
     "output_type": "stream",
     "text": [
      "0.8370879772350012\n",
      "0.6511713705958311\n",
      "0.7325171197343846\n"
     ]
    }
   ],
   "source": [
    "from sklearn.metrics import precision_score, recall_score, f1_score\n",
    "print(precision_score(y_train_5, y_pred_5))\n",
    "print(recall_score(y_train_5, y_pred_5))\n",
    "print(f1_score(y_train_5, y_pred_5))"
   ]
  },
  {
   "cell_type": "code",
   "execution_count": 99,
   "id": "754691e4",
   "metadata": {},
   "outputs": [],
   "source": [
    "# get scores instead of prediction classes\n",
    "y_scores_5 = cross_val_predict(sgd_clf, X_train, y_train_5, method='decision_function')"
   ]
  },
  {
   "cell_type": "code",
   "execution_count": 199,
   "id": "76321cb8",
   "metadata": {},
   "outputs": [
    {
     "data": {
      "image/png": "[encoded data removed]",
      "text/plain": [
       "<Figure size 720x432 with 1 Axes>"
      ]
     },
     "metadata": {
      "needs_background": "light"
     },
     "output_type": "display_data"
    }
   ],
   "source": [
    "# plot precision and recall as 2 lines\n",
    "from sklearn.metrics import precision_recall_curve\n",
    "precisions, recalls, thresholds = precision_recall_curve(y_train_5, y_scores_5)\n",
    "\n",
    "plt.figure(figsize=(10,6))\n",
    "plt.plot(thresholds, precisions[:-1], 'b--', linewidth=2, label='Precision')\n",
    "plt.plot(thresholds, recalls[:-1], 'g-', linewidth=2, label='Recall')\n",
    "plt.legend(loc='center right', fontsize=15)\n",
    "\n",
    "# get recall of 90% precision with argmax\n",
    "recall_with_90_pr = recalls[np.argmax(precisions >= 0.9)]\n",
    "threshold_with_90_pr = thresholds[np.argmax(precisions >= 0.9)]\n",
    "\n",
    "plt.plot([threshold_with_90_pr, threshold_with_90_pr], [0., 0.9], 'r:') # vertical red line\n",
    "plt.plot([-50000, threshold_with_90_pr], [0.9, 0.9], 'r:') # horizontal upper line\n",
    "plt.plot([-50000, threshold_with_90_pr], [recall_with_90_pr, recall_with_90_pr], 'r:') # horizontal lower line\n",
    "plt.plot([threshold_with_90_pr], [0.9], 'ro')\n",
    "plt.plot([threshold_with_90_pr], [recall_with_90_pr], 'ro')\n",
    "plt.xlim([-50000, 50000])\n",
    "plt.ylim([0, 1])\n",
    "plt.xlabel('Thresholds', fontsize=15)\n",
    "plt.grid(visible=True)\n",
    "plt.show()"
   ]
  },
  {
   "cell_type": "code",
   "execution_count": 233,
   "id": "d11dd628",
   "metadata": {},
   "outputs": [
    {
     "data": {
      "image/png": "[encoded data removed]",
      "text/plain": [
       "<Figure size 720x432 with 1 Axes>"
      ]
     },
     "metadata": {
      "needs_background": "light"
     },
     "output_type": "display_data"
    }
   ],
   "source": [
    "# plot precision vs recall\n",
    "plt.figure(figsize=(10,6))\n",
    "plt.plot(recalls[:-1], precisions[:-1], 'g-', linewidth=2)\n",
    "plt.xlabel('Recall', fontsize=15)\n",
    "plt.ylabel('Precision', fontsize=15)\n",
    "plt.grid(visible=True)\n",
    "plt.show()"
   ]
  },
  {
   "cell_type": "code",
   "execution_count": 203,
   "id": "7a5657cf",
   "metadata": {},
   "outputs": [
    {
     "name": "stdout",
     "output_type": "stream",
     "text": [
      "0.9002016129032258\n",
      "0.6589190186312488\n"
     ]
    }
   ],
   "source": [
    "y_pred_5_90pr = (y_scores_5 >= threshold_with_90_pr)\n",
    "print(precision_score(y_train_5, y_pred_5_90pr))\n",
    "print(recall_score(y_train_5, y_pred_5_90pr))"
   ]
  },
  {
   "cell_type": "markdown",
   "id": "e253d9b0",
   "metadata": {},
   "source": [
    "### ROC"
   ]
  },
  {
   "cell_type": "code",
   "execution_count": 223,
   "id": "d02635f7",
   "metadata": {},
   "outputs": [],
   "source": [
    "# Random Forest\n",
    "from sklearn.ensemble import RandomForestClassifier\n",
    "\n",
    "forest_clf = RandomForestClassifier(random_state=42)\n",
    "y_proba_forest_5 = cross_val_predict(forest_clf, X_train, y_train_5, method='predict_proba')"
   ]
  },
  {
   "cell_type": "code",
   "execution_count": 238,
   "id": "5e757528",
   "metadata": {},
   "outputs": [
    {
     "data": {
      "image/png": "[encoded data removed]",
      "text/plain": [
       "<Figure size 720x432 with 1 Axes>"
      ]
     },
     "metadata": {
      "needs_background": "light"
     },
     "output_type": "display_data"
    }
   ],
   "source": [
    "# plot ROC-graphs of sgd and random forest classifiers\n",
    "from sklearn.metrics import roc_curve\n",
    "\n",
    "plt.figure(figsize=(10, 6))\n",
    "\n",
    "fpr_sgd, tpr_sgd, thresholds_sgd = roc_curve(y_train_5, y_scores_5)\n",
    "plt.plot(fpr_sgd, tpr_sgd, 'b--', linewidth=2, label='SGD')\n",
    "\n",
    "fpr_forest, tpr_forest, thresholds_forest = roc_curve(y_train_5, y_proba_forest_5[:, 1])\n",
    "plt.plot(fpr_forest, tpr_forest, 'g-', linewidth=2, label='Random Forest')\n",
    "\n",
    "plt.plot([0.0, 1.0], [0.0, 1.0], 'k--')\n",
    "plt.grid(True)\n",
    "plt.legend(loc='center right', fontsize=15)\n",
    "plt.xlabel('True Positive Rate', fontsize=15)\n",
    "plt.ylabel('False Positive Rate', fontsize=15)\n",
    "#plt.xlim([0.0, 1.0])\n",
    "#plt.ylim([0.0, 1.0])\n",
    "plt.show()"
   ]
  },
  {
   "cell_type": "code",
   "execution_count": 231,
   "id": "ecb79ab9",
   "metadata": {},
   "outputs": [
    {
     "name": "stdout",
     "output_type": "stream",
     "text": [
      "SGD ROC AUC: 0.9648211175804801\n",
      "Random Forest ROC AUC: 0.998402186461512\n"
     ]
    }
   ],
   "source": [
    "# roc auc\n",
    "from sklearn.metrics import roc_auc_score\n",
    "roc_auc_sgd = roc_auc_score(y_train_5, y_scores_5)\n",
    "roc_auc_forest = roc_auc_score(y_train_5, y_proba_forest_5[:, 1])\n",
    "print('SGD ROC AUC: ' + str(roc_auc_sgd))\n",
    "print('Random Forest ROC AUC: ' + str(roc_auc_forest))"
   ]
  },
  {
   "cell_type": "code",
   "execution_count": null,
   "id": "58257482",
   "metadata": {},
   "outputs": [],
   "source": []
  },
  {
   "cell_type": "code",
   "execution_count": null,
   "id": "a3ca94e1",
   "metadata": {},
   "outputs": [],
   "source": []
  }
 ],
 "metadata": {
  "kernelspec": {
   "display_name": "Python 3 (ipykernel)",
   "language": "python",
   "name": "python3"
  },
  "language_info": {
   "codemirror_mode": {
    "name": "ipython",
    "version": 3
   },
   "file_extension": ".py",
   "mimetype": "text/x-python",
   "name": "python",
   "nbconvert_exporter": "python",
   "pygments_lexer": "ipython3",
   "version": "3.9.12"
  }
 },
 "nbformat": 4,
 "nbformat_minor": 5
}
